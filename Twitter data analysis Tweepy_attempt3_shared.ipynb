{
 "cells": [
  {
   "cell_type": "code",
   "execution_count": null,
   "id": "1fac12aa",
   "metadata": {},
   "outputs": [],
   "source": [
    "# This notebook is about making wordcloud of tweets using python"
   ]
  },
  {
   "cell_type": "code",
   "execution_count": null,
   "id": "92c0793c",
   "metadata": {},
   "outputs": [],
   "source": [
    "# the original analysis has 3000 tweets, but since I've already scrpaed a lot for trial and error, I could only get ~800\n",
    "# used a lot of links to correct course during this code\n",
    "# https://medium.com/codex/making-wordcloud-of-tweets-using-python-ca114b7a4ef4 <<< original article\n",
    "# https://github.com/vijayv500/Machine-Learning/blob/main/Wordcloud_tweets.ipynb <<< original github code \n",
    "# << have modified this in places using:\n",
    "# https://stackoverflow.com/questions/69332653/tweepy-why-did-i-receive-attributeerror-for-search <<< search word modified\n",
    "# https://stackoverflow.com/questions/7465590/nameerror-name-re-is-not-defined <<< re was not imported\n",
    "# https://www.geeksforgeeks.org/generate-word-clouds-of-any-shape-in-python/ <<< had to include r to import wordcloud image\n",
    "# https://i.stack.imgur.com/M2jeo.jpg <<< image used for wordcloud"
   ]
  },
  {
   "cell_type": "code",
   "execution_count": null,
   "id": "92b2aa9c",
   "metadata": {},
   "outputs": [],
   "source": [
    "import tweepy\n",
    "import pandas as pd"
   ]
  },
  {
   "cell_type": "code",
   "execution_count": null,
   "id": "2f4e5796",
   "metadata": {},
   "outputs": [],
   "source": [
    "# add your twitter developer codes here\n",
    "# follow these steps: https://youtu.be/wlnx-7cm4Gg?t=162   <<< starts at 2:42 for how to apply, see for only 2-3 mins\n",
    "# This is where the codes are generated: https://youtu.be/3353Mgdme4c?t=770  << at 12 mins~\n",
    "# These are the links to apply, comes in 2-3 days\n",
    "# https://developer.twitter.com/  get your essential access here\n",
    "# https://developer.twitter.com/en/portal/products/elevated get your elevated access here"
   ]
  },
  {
   "cell_type": "code",
   "execution_count": null,
   "id": "ce8b87c5",
   "metadata": {},
   "outputs": [],
   "source": [
    "# Authentication\n",
    "consumerKey = \"your code\"\n",
    "consumerSecret = \"your code\"\n",
    "accessToken = \"your code\"\n",
    "accessTokenSecret = \"your code\""
   ]
  },
  {
   "cell_type": "code",
   "execution_count": null,
   "id": "841d2b18",
   "metadata": {},
   "outputs": [],
   "source": [
    "auth = tweepy.OAuthHandler(consumerKey, consumerSecret)\n",
    "auth.set_access_token(accessToken, accessTokenSecret)\n",
    "api = tweepy.API(auth, wait_on_rate_limit=True)"
   ]
  },
  {
   "cell_type": "code",
   "execution_count": null,
   "id": "8f24f3a8",
   "metadata": {},
   "outputs": [],
   "source": [
    "def keyword_to_csv(keyword,recent): \n",
    "    try:\n",
    "        tweets = tweepy.Cursor(api.search,q=keyword).items(recent)\n",
    "        tweets_list = [[tweet.text] for tweet in tweets]\n",
    "        df = pd.DataFrame(tweets_list,columns=['Text'])\n",
    "        df.to_csv('{}.csv'.format(keyword), sep=',', index = False)\n",
    "    except BaseException as e:\n",
    "        print('failed on_status,',str(e))\n",
    "        time.sleep(3)"
   ]
  },
  {
   "cell_type": "code",
   "execution_count": null,
   "id": "1d01ab60",
   "metadata": {},
   "outputs": [],
   "source": [
    "def keyword_to_csv(keyword,recent):\n",
    "    try:\n",
    "        tweets = tweepy.Cursor(api.search_tweets,q=keyword).items(recent) #creates query method\n",
    "        tweets_list = [[tweet.text] for tweet in tweets]\n",
    "#pulls text information from tweets\n",
    "        df = pd.DataFrame(tweets_list,columns=['Text']) \n",
    "#creates a pandas dataframe\n",
    "        df.to_csv('{}.csv'.format(keyword), sep=',', index = False)\n",
    " #creates a csv from data frame\n",
    "    except BaseException as e:\n",
    "        print('failed on_status,',str(e))\n",
    "        time.sleep(3)"
   ]
  },
  {
   "cell_type": "code",
   "execution_count": null,
   "id": "27f0ebef",
   "metadata": {},
   "outputs": [],
   "source": [
    "keyword = '#spacex'+ \"-filter:retweets\"\n",
    "recent  = 3000\n",
    "keyword_to_csv(keyword, recent)"
   ]
  },
  {
   "cell_type": "code",
   "execution_count": null,
   "id": "5afbdd8f",
   "metadata": {},
   "outputs": [],
   "source": [
    "df = pd.read_csv(\"./#spacex-filter:retweets.csv\")\n",
    "pd.options.display.max_colwidth = 200\n",
    "df.head()"
   ]
  },
  {
   "cell_type": "code",
   "execution_count": null,
   "id": "64d617e5",
   "metadata": {},
   "outputs": [],
   "source": [
    "df.shape"
   ]
  },
  {
   "cell_type": "code",
   "execution_count": null,
   "id": "a23af230",
   "metadata": {},
   "outputs": [],
   "source": [
    " #loads the row from dataframe\n",
    "a = df.loc[842].to_string()\n",
    "print(a)"
   ]
  },
  {
   "cell_type": "code",
   "execution_count": null,
   "id": "9c309e33",
   "metadata": {},
   "outputs": [],
   "source": [
    "import re"
   ]
  },
  {
   "cell_type": "code",
   "execution_count": null,
   "id": "b344ab96",
   "metadata": {},
   "outputs": [],
   "source": [
    "re_list = ['(https?://)?(www\\.)?(\\w+\\.)?(\\w+)(\\.\\w+)(/.+)?', '@[A-Za-z0-9_]+','#']\n",
    "combined_re = re.compile( '|'.join( re_list) )"
   ]
  },
  {
   "cell_type": "code",
   "execution_count": null,
   "id": "276465d6",
   "metadata": {},
   "outputs": [],
   "source": [
    "regex_pattern = re.compile(pattern = \"[\"\n",
    "        u\"\\U0001F600-\\U0001F64F\"  # emoticons\n",
    "        u\"\\U0001F300-\\U0001F5FF\"  # symbols & pictographs\n",
    "        u\"\\U0001F680-\\U0001F6FF\"  # transport & map symbols\n",
    "        u\"\\U0001F1E0-\\U0001F1FF\"  # flags (iOS)\n",
    "                           \"]+\", flags = re.UNICODE)"
   ]
  },
  {
   "cell_type": "code",
   "execution_count": null,
   "id": "71eb5ead",
   "metadata": {},
   "outputs": [],
   "source": [
    "a = df.loc[0].to_string()\n",
    "print(a)"
   ]
  },
  {
   "cell_type": "code",
   "execution_count": null,
   "id": "06c6ad0c",
   "metadata": {},
   "outputs": [],
   "source": [
    "pattern = re.compile(r'(https?://)?(www\\.)?(\\w+\\.)?(\\w+)(\\.\\w+)(/.+)?')\n",
    "match = re.sub(pattern,'',a)\n",
    "print(match)"
   ]
  },
  {
   "cell_type": "code",
   "execution_count": null,
   "id": "113135ae",
   "metadata": {},
   "outputs": [],
   "source": [
    "from bs4 import BeautifulSoup\n",
    "from nltk.tokenize import WordPunctTokenizer\n",
    "token = WordPunctTokenizer()"
   ]
  },
  {
   "cell_type": "code",
   "execution_count": null,
   "id": "a7c9088f",
   "metadata": {},
   "outputs": [],
   "source": [
    "def cleaning_tweets(t):\n",
    "    del_amp = BeautifulSoup(t, 'lxml')\n",
    "    del_amp_text = del_amp.get_text()\n",
    "    del_link_mentions = re.sub(combined_re, '', del_amp_text)\n",
    "    del_emoticons = re.sub(regex_pattern, '', del_link_mentions)\n",
    "    lower_case = del_emoticons.lower()\n",
    "    words = token.tokenize(lower_case)\n",
    "    result_words = [x for x in words if len(x) > 2]\n",
    "    return (\" \".join(result_words)).strip()"
   ]
  },
  {
   "cell_type": "code",
   "execution_count": null,
   "id": "c3a76040",
   "metadata": {},
   "outputs": [],
   "source": [
    "print(\"Cleaning the tweets...\\n\")\n",
    "cleaned_tweets = []\n",
    "for i in range(0,842):\n",
    "    if( (i+1)%100 == 0 ):\n",
    "        print(\"Tweets {} of {} have been processed\".format(i+1,842))\n",
    "    cleaned_tweets.append(cleaning_tweets((df.Text[i])))"
   ]
  },
  {
   "cell_type": "code",
   "execution_count": null,
   "id": "cef8f492",
   "metadata": {},
   "outputs": [],
   "source": [
    "string = pd.Series(cleaned_tweets).str.cat(sep=' ')"
   ]
  },
  {
   "cell_type": "code",
   "execution_count": null,
   "id": "44c743d9",
   "metadata": {},
   "outputs": [],
   "source": [
    "from wordcloud import WordCloud, STOPWORDS\n",
    "import matplotlib.pyplot as plt\n",
    "\n",
    "stopwords = set(STOPWORDS)\n",
    "stopwords.update([\"elonmusk\",\"elon musk\",\"elon\",\"musk\",\"spacex\"])"
   ]
  },
  {
   "cell_type": "code",
   "execution_count": null,
   "id": "6aae690e",
   "metadata": {},
   "outputs": [],
   "source": [
    "wordcloud = WordCloud(width=1600, stopwords=stopwords,height=800,max_font_size=200,max_words=50,collocations=False, background_color='grey').generate(string)\n",
    "plt.figure(figsize=(40,30))\n",
    "plt.imshow(wordcloud, interpolation=\"bilinear\")\n",
    "plt.axis(\"off\")\n",
    "plt.show()"
   ]
  },
  {
   "cell_type": "code",
   "execution_count": null,
   "id": "461f5560",
   "metadata": {},
   "outputs": [],
   "source": [
    "import numpy as np\n",
    "from PIL import Image"
   ]
  },
  {
   "cell_type": "code",
   "execution_count": null,
   "id": "96bb9ab6",
   "metadata": {},
   "outputs": [],
   "source": [
    "mask = np.array(Image.open(r'C:\\tweet.jpg'))"
   ]
  },
  {
   "cell_type": "code",
   "execution_count": null,
   "id": "3b8205c0",
   "metadata": {},
   "outputs": [],
   "source": [
    "wordcloud = WordCloud(width=1600, mask = mask,stopwords=stopwords,height=800,max_font_size=200,max_words=50,collocations=False,background_color='white').generate(string)"
   ]
  },
  {
   "cell_type": "code",
   "execution_count": null,
   "id": "cfddab16",
   "metadata": {},
   "outputs": [],
   "source": [
    "f = plt.figure(figsize=(50,50))\n",
    "f.add_subplot(1,2, 1)\n",
    "plt.imshow(mask, cmap=plt.cm.gray, interpolation='bilinear')\n",
    "plt.title('Original Image', size=30)\n",
    "plt.axis(\"off\")\n",
    "f.add_subplot(1,2, 2)\n",
    "plt.imshow(wordcloud, interpolation='bilinear')\n",
    "plt.title('Generated Word Cloud', size=30)\n",
    "plt.axis(\"off\")\n",
    "plt.show()"
   ]
  }
 ],
 "metadata": {
  "kernelspec": {
   "display_name": "Python 3 (ipykernel)",
   "language": "python",
   "name": "python3"
  },
  "language_info": {
   "codemirror_mode": {
    "name": "ipython",
    "version": 3
   },
   "file_extension": ".py",
   "mimetype": "text/x-python",
   "name": "python",
   "nbconvert_exporter": "python",
   "pygments_lexer": "ipython3",
   "version": "3.9.7"
  }
 },
 "nbformat": 4,
 "nbformat_minor": 5
}
